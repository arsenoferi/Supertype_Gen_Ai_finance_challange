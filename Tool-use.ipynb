{
 "cells": [
  {
   "cell_type": "code",
   "execution_count": 1,
   "metadata": {},
   "outputs": [],
   "source": [
    "import os\n",
    "import json\n",
    "import requests\n",
    "\n",
    "from dotenv import load_dotenv\n",
    "from typing import List\n",
    "\n",
    "from langchain_core.tools import tool\n",
    "from langchain_core.prompts import ChatPromptTemplate, MessagesPlaceholder\n",
    "from langchain_groq import ChatGroq\n",
    "from langchain.agents import create_tool_calling_agent, AgentExecutor\n",
    "from langgraph.prebuilt import create_react_agent"
   ]
  },
  {
   "cell_type": "code",
   "execution_count": 2,
   "metadata": {},
   "outputs": [],
   "source": [
    "load_dotenv()\n",
    "GROQ_API_KEY = os.getenv(\"GROK_API_KEY\")\n",
    "SECTORS_API_KEY = os.getenv(\"SECTOR_API_KEY\")"
   ]
  },
  {
   "cell_type": "markdown",
   "metadata": {},
   "source": [
    "## General Retrival From Sector"
   ]
  },
  {
   "cell_type": "code",
   "execution_count": 3,
   "metadata": {},
   "outputs": [],
   "source": [
    "def retrieve_from_endpoint(url: str) -> dict:\n",
    "    headers = {\"Authorization\": SECTORS_API_KEY}\n",
    "\n",
    "    try:\n",
    "        response = requests.get(url, headers=headers)\n",
    "        response.raise_for_status()\n",
    "        data = response.json()\n",
    "    except requests.exceptions.HTTPError as err:\n",
    "        raise SystemExit(err)\n",
    "    return json.dumps(data)"
   ]
  },
  {
   "cell_type": "markdown",
   "metadata": {},
   "source": [
    "## Tool"
   ]
  },
  {
   "cell_type": "code",
   "execution_count": 4,
   "metadata": {},
   "outputs": [],
   "source": [
    "@tool\n",
    "def get_company_overview(stock:str)-> str:\n",
    "    \"\"\"\n",
    "    Get company overview from sector API\n",
    "    \"\"\"\n",
    "\n",
    "    url = f\"https://api.sectors.app/v1/company/report/{stock}/?sections=overview\"\n",
    "    \n",
    "    return retrieve_from_endpoint(url)"
   ]
  },
  {
   "cell_type": "code",
   "execution_count": 5,
   "metadata": {},
   "outputs": [],
   "source": [
    "import datetime\n",
    "@tool\n",
    "def get_today_date()->str:\n",
    "    \"\"\"\n",
    "    Get today's date\n",
    "    \"\"\"\n",
    "    return datetime.datetime.now().date().strftime(\"%Y-%m-%d\")"
   ]
  },
  {
   "cell_type": "code",
   "execution_count": 6,
   "metadata": {},
   "outputs": [],
   "source": [
    "@tool\n",
    "def get_top_companies_by_tx_volume(start_date: str, end_date: str, top_n: int = 5) -> str:\n",
    "    \"\"\"\n",
    "    Get top companies by transaction volume\n",
    "    \"\"\"\n",
    "    url = f\"https://api.sectors.app/v1/most-traded/?start={start_date}&end={end_date}&n_stock={top_n}\"\n",
    "\n",
    "    return retrieve_from_endpoint(url)"
   ]
  },
  {
   "cell_type": "code",
   "execution_count": 7,
   "metadata": {},
   "outputs": [],
   "source": [
    "@tool\n",
    "def get_daily_tx(stock: str, start_date: str, end_date: str) -> str:\n",
    "    \"\"\"\n",
    "    Get daily transaction for a stock\n",
    "    \"\"\"\n",
    "    url = f\"https://api.sectors.app/v1/daily/{stock}/?start={start_date}&end={end_date}\"\n",
    "\n",
    "    return retrieve_from_endpoint(url)"
   ]
  },
  {
   "cell_type": "code",
   "execution_count": 8,
   "metadata": {},
   "outputs": [],
   "source": [
    "tools = [\n",
    "    get_company_overview,\n",
    "    get_top_companies_by_tx_volume,\n",
    "    get_daily_tx,\n",
    "    get_today_date\n",
    "]"
   ]
  },
  {
   "cell_type": "markdown",
   "metadata": {},
   "source": [
    "## Create LLM"
   ]
  },
  {
   "cell_type": "code",
   "execution_count": 9,
   "metadata": {},
   "outputs": [],
   "source": [
    "prompt = ChatPromptTemplate.from_messages(\n",
    "    [\n",
    "        (\n",
    "            \"system\",\n",
    "            f\"\"\"Answer the following queries factually. Whenever you return a \n",
    "            list of names, return also the corresponding values for each name. \n",
    "            Always answer in markdown table if you can.\n",
    "            \"\"\",\n",
    "        ),\n",
    "        (\"human\", \"{text}\"),\n",
    "        MessagesPlaceholder(\"agent_scratchpad\"),\n",
    "        \n",
    "    ]\n",
    ")\n",
    "\n",
    "llm = ChatGroq(\n",
    "    temperature=0,\n",
    "    model_name=\"llama3-groq-70b-8192-tool-use-preview\",\n",
    "    groq_api_key=GROQ_API_KEY,\n",
    ")"
   ]
  },
  {
   "cell_type": "markdown",
   "metadata": {},
   "source": [
    "## Agent Creation"
   ]
  },
  {
   "cell_type": "code",
   "execution_count": 10,
   "metadata": {},
   "outputs": [
    {
     "name": "stdout",
     "output_type": "stream",
     "text": [
      "Question: What are the top 3 companies by transaction volume over the last 7 days?\n",
      "Answer: \n",
      " The top 3 companies by transaction volume over the last 7 days are as follows:\n",
      "\n",
      "| Date | Company Name | Price | Symbol | Volume |\n",
      "| --- | --- | --- | --- | --- |\n",
      "| 2023-09-25 | PT GoTo Gojek Tokopedia Tbk | 87 | GOTO.JK | 1603642100 |\n",
      "| 2023-09-25 | Darma Henwa Tbk | 77 | DEWA.JK | 1464087000 |\n",
      "| 2023-09-25 | PT Era Media Sejahtera Tbk | 73 | DOOH.JK | 915160700 |\n",
      "| 2023-09-26 | PT GoTo Gojek Tokopedia Tbk | 87 | GOTO.JK | 5154826100 |\n",
      "| 2023-09-26 | Darma Henwa Tbk | 71 | DEWA.JK | 1821746400 |\n",
      "| 2023-09-26 | PT Era Media Sejahtera Tbk | 98 | DOOH.JK | 814239400 |\n",
      "| 2023-09-27 | PT GoTo Gojek Tokopedia Tbk | 86 | GOTO.JK | 2659270500 |\n",
      "| 2023-09-27 | Nusantara Infrastructure Tbk | 224 | META.JK | 992850400 |\n",
      "| 2023-09-27 | Darma Henwa Tbk | 79 | DEWA.JK | 708982200 |\n",
      "| 2023-09-29 | PT GoTo Gojek Tokopedia Tbk | 85 | GOTO.JK | 2859965800 |\n",
      "| 2023-09-29 | Darma Henwa Tbk | 85 | DEWA.JK | 991122800 |\n",
      "| 2023-09-29 | PT Sinergi Inti Andalan Prima Tbk. | 238 | INET.JK | 871690700 | \n",
      "\n",
      "======\n",
      "\n",
      "\n",
      "Question: Based on the closing prices of BBCA between 1st and 30th of June 2024, are we seeing an uptrend or downtrend? Try to explain why.\n",
      "Answer: \n",
      " Based on the closing prices of BBCA between 1st and 30th of June 2024, we are seeing an uptrend. The closing prices start at 9275 and end at 9925, showing a positive trend. \n",
      "\n",
      "======\n",
      "\n",
      "\n",
      "Question: What is the company with the largest market cap between BBCA and BREN? For said company, retrieve the email, phone number, listing date and website for further research.\n",
      "Answer: \n",
      " | Company Name | Market Cap | Market Cap Rank |\n",
      "|-------------|-------------|----------------|\n",
      "| PT Bank Central Asia Tbk. | 1,278,978,178,416,640 | 1 |\n",
      "| PT Barito Renewables Energy Tbk. | 856,230,385,942,528 | 2 |\n",
      "\n",
      "The company with the largest market cap between BBCA and BREN is PT Bank Central Asia Tbk. (BBCA). Here are the details for further research:\n",
      "\n",
      "- **Email:** investor_relations@bca.co.id\n",
      "- **Phone:** 021-23588000\n",
      "- **Listing Date:** 2000-05-31\n",
      "- **Website:** www.bca.co.id \n",
      "\n",
      "======\n",
      "\n",
      "\n",
      "Question: What is the performance of GOTO (symbol: GOTO) since its IPO listing?\n",
      "Answer: \n",
      " To provide the performance of GOTO (symbol: GOTO) since its IPO listing, I need to know the exact date of its IPO listing. Could you provide that information? \n",
      "\n",
      "======\n",
      "\n",
      "\n",
      "Question: If i had invested into GOTO vs BREN on their respective IPO listing date, which one would have given me a better return over a 90 day horizon?\n",
      "Answer: \n",
      " To provide a factual answer, I need to gather some information first. Could you please provide me with the stock symbols for GOTO and BREN, as well as their respective IPO listing dates? \n",
      "\n",
      "======\n",
      "\n",
      "\n"
     ]
    }
   ],
   "source": [
    "agent = create_tool_calling_agent(llm, tools, prompt)\n",
    "agent_executor = AgentExecutor(agent=agent, tools=tools)\n",
    "\n",
    "query_1 = \"What are the top 3 companies by transaction volume over the last 7 days?\"\n",
    "query_2 = \"Based on the closing prices of BBCA between 1st and 30th of June 2024, are we seeing an uptrend or downtrend? Try to explain why.\"\n",
    "query_3 = \"What is the company with the largest market cap between BBCA and BREN? For said company, retrieve the email, phone number, listing date and website for further research.\"\n",
    "query_4 = \"What is the performance of GOTO (symbol: GOTO) since its IPO listing?\"\n",
    "query_5 = \"If i had invested into GOTO vs BREN on their respective IPO listing date, which one would have given me a better return over a 90 day horizon?\"\n",
    "\n",
    "queries = [query_1, query_2, query_3, query_4, query_5]\n",
    "\n",
    "for query in queries:\n",
    "    print(\"Question:\", query)\n",
    "    result = agent_executor.invoke({\"text\": query})\n",
    "    print(\"Answer:\", \"\\n\", result[\"output\"], \"\\n\\n======\\n\\n\")"
   ]
  },
  {
   "cell_type": "code",
   "execution_count": 14,
   "metadata": {},
   "outputs": [],
   "source": [
    "from langgraph.checkpoint.memory import MemorySaver\n",
    "from langchain.schema import HumanMessage\n",
    "\n",
    "\n",
    "memory = MemorySaver()"
   ]
  },
  {
   "cell_type": "code",
   "execution_count": 15,
   "metadata": {},
   "outputs": [
    {
     "name": "stdout",
     "output_type": "stream",
     "text": [
      "Adaro Energy Indonesia Tbk, listed as ADRO.JK, is a coal production company operating in the energy sector. It is headquartered at Menara Karya 23rd Floor Jl. H.R. Rasuna Said, Block X-5, Kav. 1-2 Jakarta 12950. The company has a market capitalization of 124,265,147,924,480, ranking it 17th in the market. It has 13,180 employees and is listed on the Main board of the stock exchange since July 16, 2008. The latest closing price was 4,040, with a daily close change of 0.0279898218829517. You can contact them via email at mahardika.putranto@adaro.com or aditya.sudjono@adaro.com, or by phone at 021-25533000. Their website is www.adaro.com.\n"
     ]
    }
   ],
   "source": [
    "system_message = \"You are an expert tool calling agent meant for financial data retriever and summarization. Use tools to get the information you need. If you do not know the answer to a question, say so.\"\n",
    "app = create_react_agent(llm, tools,state_modifier=system_message,checkpointer=memory)\n",
    "out = app.invoke({\n",
    "        \"messages\": [\n",
    "            HumanMessage(\n",
    "                content=\"Give me an overview of ADRO\"\n",
    "            )\n",
    "        ]\n",
    "    }, config={\"configurable\": {\"thread_id\": \"supertype\"}})\n",
    "\n",
    "\n",
    "# result:\n",
    "print(out[\"messages\"][-1].content)"
   ]
  },
  {
   "cell_type": "code",
   "execution_count": null,
   "metadata": {},
   "outputs": [],
   "source": [
    "system_message = \"You are an expert tool calling agent meant for financial data retriever and summarization. Use tools to get the information you need. If you do not know the answer to a question, say so. Whenever possible, answer with markdown-formatted code.\"\n",
    "app = create_react_agent(llm, tools, state_modifier=system_message)\n"
   ]
  },
  {
   "cell_type": "code",
   "execution_count": null,
   "metadata": {},
   "outputs": [],
   "source": [
    "from langchain.schema import HumanMessage \n",
    "def query_app(text: str) -> str:\n",
    "    out = app.invoke(\n",
    "        {\n",
    "            \"messages\": [\n",
    "                HumanMessage(text),\n",
    "            ]\n",
    "        }\n",
    "    )\n",
    "    # return out[\"messages\"][-1].content\n",
    "    return out[\"messages\"]"
   ]
  },
  {
   "cell_type": "code",
   "execution_count": null,
   "metadata": {},
   "outputs": [
    {
     "name": "stdout",
     "output_type": "stream",
     "text": [
      "[HumanMessage(content='Give me an overview of BBRI', additional_kwargs={}, response_metadata={}, id='80fce9bd-7d4d-44e9-9b67-a3be6280d786'), AIMessage(content='', additional_kwargs={'tool_calls': [{'id': 'call_9111', 'function': {'arguments': '{\"stock\": \"BBRI\"}', 'name': 'get_company_overview'}, 'type': 'function'}]}, response_metadata={'token_usage': {'completion_tokens': 29, 'prompt_tokens': 506, 'total_tokens': 535, 'completion_time': 0.089022853, 'prompt_time': 0.040643959, 'queue_time': 0.000932121000000001, 'total_time': 0.129666812}, 'model_name': 'llama3-groq-70b-8192-tool-use-preview', 'system_fingerprint': 'fp_ee4b521143', 'finish_reason': 'tool_calls', 'logprobs': None}, id='run-23042742-857d-4d3d-8091-5b3bf402ed39-0', tool_calls=[{'name': 'get_company_overview', 'args': {'stock': 'BBRI'}, 'id': 'call_9111', 'type': 'tool_call'}], usage_metadata={'input_tokens': 506, 'output_tokens': 29, 'total_tokens': 535}), ToolMessage(content='{\"symbol\": \"BBRI.JK\", \"company_name\": \"PT Bank Rakyat Indonesia (Persero) Tbk\", \"overview\": {\"listing_board\": \"Main\", \"industry\": \"Banks\", \"sub_industry\": \"Banks\", \"sector\": \"Financials\", \"sub_sector\": \"Banks\", \"market_cap\": 712569769689088, \"market_cap_rank\": 4, \"address\": \"Gedung BRI I Lantai 20\\\\r\\\\nJl. Jenderal Sudirman Kav.44-46, Jakarta Pusat 10210\", \"employee_num\": 80257, \"listing_date\": \"2003-11-10\", \"website\": \"www.bri.co.id\", \"phone\": \"021 - 575 1966\", \"email\": \"humas@bri.co.id; corsec@bri.co.id\", \"last_close_price\": 4720, \"latest_close_date\": \"2024-11-04\", \"daily_close_change\": 0.00425531914893617}}', name='get_company_overview', id='d15704ef-9250-4884-b442-57d1816e7d74', tool_call_id='call_9111'), AIMessage(content=\"The company you're interested in is PT Bank Rakyat Indonesia (Persero) Tbk, listed under the ticker symbol BBRI.JK. It operates in the Financials sector, specifically in the Banks sub-industry. The company is headquartered at Gedung BRI I Lantai 20, Jl. Jenderal Sudirman Kav.44-46, Jakarta Pusat 10210. They have a total of 80,257 employees and are listed on the Main board of the stock exchange since November 10, 2003. Their latest closing price was 4,720, with a market capitalization of 712,569,769,689,088, ranking them 4th in the market capitalization. For more information, you can visit their website at www.bri.co.id or contact them via email at humas@bri.co.id; corsec@bri.co.id or phone at 021 - 575 1966.\", additional_kwargs={}, response_metadata={'token_usage': {'completion_tokens': 202, 'prompt_tokens': 743, 'total_tokens': 945, 'completion_time': 0.650166256, 'prompt_time': 0.053789779, 'queue_time': 0.0011997529999999978, 'total_time': 0.703956035}, 'model_name': 'llama3-groq-70b-8192-tool-use-preview', 'system_fingerprint': 'fp_ee4b521143', 'finish_reason': 'stop', 'logprobs': None}, id='run-85d86ce3-0dd4-480a-9a18-18b24f0e6155-0', usage_metadata={'input_tokens': 743, 'output_tokens': 202, 'total_tokens': 945})]\n"
     ]
    }
   ],
   "source": [
    "out_agent = query_app(\"Give me an overview of BBRI\")\n",
    "print(out_agent)"
   ]
  },
  {
   "cell_type": "code",
   "execution_count": null,
   "metadata": {},
   "outputs": [
    {
     "name": "stdout",
     "output_type": "stream",
     "text": [
      "The company you're interested in is PT Bank Rakyat Indonesia (Persero) Tbk, listed under the ticker symbol BBRI.JK. It operates in the Financials sector, specifically in the Banks sub-industry. The company is headquartered at Gedung BRI I Lantai 20, Jl. Jenderal Sudirman Kav.44-46, Jakarta Pusat 10210. They have a total of 80,257 employees and are listed on the Main board of the stock exchange since November 10, 2003. Their latest closing price was 4,720, with a market capitalization of 712,569,769,689,088, ranking them 4th in the market capitalization. For more information, you can visit their website at www.bri.co.id or contact them via email at humas@bri.co.id; corsec@bri.co.id or phone at 021 - 575 1966.\n"
     ]
    }
   ],
   "source": [
    "print(out_agent[-1].content)"
   ]
  },
  {
   "cell_type": "code",
   "execution_count": null,
   "metadata": {},
   "outputs": [
    {
     "name": "stdout",
     "output_type": "stream",
     "text": [
      "{'agent': {'messages': [AIMessage(content='', additional_kwargs={'tool_calls': [{'id': 'call_2tzk', 'function': {'arguments': '{\"top_n\": 5}', 'name': 'get_top_companies_by_market_cap'}, 'type': 'function'}, {'id': 'call_ckpf', 'function': {'arguments': '{\"top_n\": 5}', 'name': 'get_top_companies_by_market_cap'}, 'type': 'function'}]}, response_metadata={'token_usage': {'completion_tokens': 64, 'prompt_tokens': 518, 'total_tokens': 582, 'completion_time': 0.20050161, 'prompt_time': 0.038503865, 'queue_time': 0.0010611650000000028, 'total_time': 0.239005475}, 'model_name': 'llama3-groq-70b-8192-tool-use-preview', 'system_fingerprint': 'fp_ee4b521143', 'finish_reason': 'tool_calls', 'logprobs': None}, id='run-5a822a66-5e61-4276-aca2-f0ff9db30b62-0', tool_calls=[{'name': 'get_top_companies_by_market_cap', 'args': {'top_n': 5}, 'id': 'call_2tzk', 'type': 'tool_call'}, {'name': 'get_top_companies_by_market_cap', 'args': {'top_n': 5}, 'id': 'call_ckpf', 'type': 'tool_call'}], usage_metadata={'input_tokens': 518, 'output_tokens': 64, 'total_tokens': 582})]}}\n",
      "# ----\n",
      "{'tools': {'messages': [ToolMessage(content='Error: get_top_companies_by_market_cap is not a valid tool, try one of [get_company_overview, get_top_companies_by_tx_volume, get_daily_tx, get_today_date].', name='get_top_companies_by_market_cap', id='d4e3cbdf-db51-448d-a35f-58ceab835863', tool_call_id='call_2tzk', status='error'), ToolMessage(content='Error: get_top_companies_by_market_cap is not a valid tool, try one of [get_company_overview, get_top_companies_by_tx_volume, get_daily_tx, get_today_date].', name='get_top_companies_by_market_cap', id='56907e1d-fd26-4526-bef1-59b6dccfc16f', tool_call_id='call_ckpf', status='error')]}}\n",
      "# ----\n",
      "{'agent': {'messages': [AIMessage(content='It seems like the tool \"get_top_companies_by_market_cap\" is not available. However, I can provide you with an overview of a specific company or get the top companies by transaction volume. Would you like to proceed with one of these options?', additional_kwargs={}, response_metadata={'token_usage': {'completion_tokens': 52, 'prompt_tokens': 694, 'total_tokens': 746, 'completion_time': 0.165757054, 'prompt_time': 0.050536549, 'queue_time': 0.0009204800000000013, 'total_time': 0.216293603}, 'model_name': 'llama3-groq-70b-8192-tool-use-preview', 'system_fingerprint': 'fp_ee4b521143', 'finish_reason': 'stop', 'logprobs': None}, id='run-6e2b522b-f69f-405c-9e99-5b673e65c4a2-0', usage_metadata={'input_tokens': 694, 'output_tokens': 52, 'total_tokens': 746})]}}\n",
      "# ----\n"
     ]
    }
   ],
   "source": [
    "for chunk in app.stream(\n",
    "    {\n",
    "        \"messages\": [\n",
    "            HumanMessage(\n",
    "                content=\"Top 5 companies with the highest market cap, along with their full company name and market cap\"\n",
    "            )\n",
    "        ]\n",
    "    }\n",
    "):\n",
    "    print(chunk,flush=True)\n",
    "    print(\"# ----\")"
   ]
  },
  {
   "cell_type": "code",
   "execution_count": null,
   "metadata": {},
   "outputs": [],
   "source": [
    "\n"
   ]
  },
  {
   "cell_type": "code",
   "execution_count": null,
   "metadata": {},
   "outputs": [],
   "source": []
  }
 ],
 "metadata": {
  "kernelspec": {
   "display_name": "training",
   "language": "python",
   "name": "training"
  },
  "language_info": {
   "codemirror_mode": {
    "name": "ipython",
    "version": 3
   },
   "file_extension": ".py",
   "mimetype": "text/x-python",
   "name": "python",
   "nbconvert_exporter": "python",
   "pygments_lexer": "ipython3",
   "version": "3.12.7"
  }
 },
 "nbformat": 4,
 "nbformat_minor": 2
}
