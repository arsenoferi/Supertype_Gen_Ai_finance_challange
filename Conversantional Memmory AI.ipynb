{
 "cells": [
  {
   "cell_type": "code",
   "execution_count": 2,
   "metadata": {},
   "outputs": [],
   "source": [
    "import os\n",
    "from dotenv import load_dotenv\n",
    "\n",
    "from langchain.memory import ConversationBufferMemory\n",
    "from langchain_groq import ChatGroq\n",
    "from langchain_core.prompts.prompt import PromptTemplate\n",
    "from langchain.chains import ConversationChain"
   ]
  },
  {
   "cell_type": "code",
   "execution_count": 3,
   "metadata": {},
   "outputs": [],
   "source": [
    "load_dotenv()\n",
    "GROQ_API_KEY = os.getenv(\"GROK_API_KEY\")"
   ]
  },
  {
   "cell_type": "code",
   "execution_count": 4,
   "metadata": {},
   "outputs": [],
   "source": [
    "llm = ChatGroq(\n",
    "    model_name=\"llama3-groq-70b-8192-tool-use-preview\",\n",
    "    groq_api_key=GROQ_API_KEY,\n",
    ")"
   ]
  },
  {
   "cell_type": "code",
   "execution_count": 5,
   "metadata": {},
   "outputs": [],
   "source": [
    "template = \"\"\"The following is a friendly conversation between a human and a financial stock advisor AI with specific knowledge of the Indonesian stock market (IDX). \n",
    "The AI is talkative and provides lots of specific details from its context. If the AI does not know the answer to a question, it truthfully says it does not know.\n",
    "    Current conversation:\n",
    "    {history}\n",
    "    Human: {input}\n",
    "    AI Assistant:\"\"\""
   ]
  },
  {
   "cell_type": "code",
   "execution_count": 6,
   "metadata": {},
   "outputs": [],
   "source": [
    "prompt = PromptTemplate(input_variables=[\"history\", \"input\"], template=template)"
   ]
  },
  {
   "cell_type": "code",
   "execution_count": 7,
   "metadata": {},
   "outputs": [
    {
     "name": "stderr",
     "output_type": "stream",
     "text": [
      "C:\\Users\\Arseno Feri Alzahabi\\AppData\\Local\\Temp\\ipykernel_2440\\2796130707.py:5: LangChainDeprecationWarning: Please see the migration guide at: https://python.langchain.com/docs/versions/migrating_memory/\n",
      "  memory=ConversationBufferMemory(memory_key=\"history\")\n",
      "C:\\Users\\Arseno Feri Alzahabi\\AppData\\Local\\Temp\\ipykernel_2440\\2796130707.py:1: LangChainDeprecationWarning: The class `ConversationChain` was deprecated in LangChain 0.2.7 and will be removed in 1.0. Use :meth:`~RunnableWithMessageHistory: https://python.langchain.com/v0.2/api_reference/core/runnables/langchain_core.runnables.history.RunnableWithMessageHistory.html` instead.\n",
      "  conversation = ConversationChain(\n"
     ]
    }
   ],
   "source": [
    "conversation = ConversationChain(\n",
    "    llm=llm,\n",
    "    prompt=prompt,\n",
    "    verbose=True,\n",
    "    memory=ConversationBufferMemory(memory_key=\"history\")\n",
    ")"
   ]
  },
  {
   "cell_type": "code",
   "execution_count": 8,
   "metadata": {},
   "outputs": [],
   "source": [
    "memory = ConversationBufferMemory()\n",
    "memory.chat_memory.add_user_message(\"hi! I'm curious about the Indonesian stock market.\")\n",
    "memory.chat_memory.add_ai_message(\"i'm here to help! what would you like to know?\")"
   ]
  },
  {
   "cell_type": "code",
   "execution_count": 9,
   "metadata": {},
   "outputs": [
    {
     "name": "stderr",
     "output_type": "stream",
     "text": [
      "C:\\Users\\Arseno Feri Alzahabi\\AppData\\Local\\Temp\\ipykernel_2440\\2468734815.py:1: LangChainDeprecationWarning: The method `Chain.run` was deprecated in langchain 0.1.0 and will be removed in 1.0. Use :meth:`~invoke` instead.\n",
      "  conversation.run(\"which country does the great nusantara likely refers to?\")\n"
     ]
    },
    {
     "name": "stdout",
     "output_type": "stream",
     "text": [
      "\n",
      "\n",
      "\u001b[1m> Entering new ConversationChain chain...\u001b[0m\n",
      "Prompt after formatting:\n",
      "\u001b[32;1m\u001b[1;3mThe following is a friendly conversation between a human and a financial stock advisor AI with specific knowledge of the Indonesian stock market (IDX). \n",
      "The AI is talkative and provides lots of specific details from its context. If the AI does not know the answer to a question, it truthfully says it does not know.\n",
      "    Current conversation:\n",
      "    \n",
      "    Human: which country does the great nusantara likely refers to?\n",
      "    AI Assistant:\u001b[0m\n",
      "\n",
      "\u001b[1m> Finished chain.\u001b[0m\n"
     ]
    },
    {
     "data": {
      "text/plain": [
       "'The term \"Great Nusantara\" is a concept that has been used in the context of Indonesia. It refers to the idea of a united and powerful Indonesia, encompassing not just the geographical area of the current country, but also the surrounding islands and territories that were historically or culturally connected to it. The term is often associated with the vision of Indonesia as a major regional power and a leader in Southeast Asia.'"
      ]
     },
     "execution_count": 9,
     "metadata": {},
     "output_type": "execute_result"
    }
   ],
   "source": [
    "conversation.run(\"which country does the great nusantara likely refers to?\")"
   ]
  },
  {
   "cell_type": "code",
   "execution_count": 10,
   "metadata": {},
   "outputs": [
    {
     "name": "stdout",
     "output_type": "stream",
     "text": [
      "\n",
      "\n",
      "\u001b[1m> Entering new ConversationChain chain...\u001b[0m\n",
      "Prompt after formatting:\n",
      "\u001b[32;1m\u001b[1;3mThe following is a friendly conversation between a human and a financial stock advisor AI with specific knowledge of the Indonesian stock market (IDX). \n",
      "The AI is talkative and provides lots of specific details from its context. If the AI does not know the answer to a question, it truthfully says it does not know.\n",
      "    Current conversation:\n",
      "    Human: which country does the great nusantara likely refers to?\n",
      "AI: The term \"Great Nusantara\" is a concept that has been used in the context of Indonesia. It refers to the idea of a united and powerful Indonesia, encompassing not just the geographical area of the current country, but also the surrounding islands and territories that were historically or culturally connected to it. The term is often associated with the vision of Indonesia as a major regional power and a leader in Southeast Asia.\n",
      "    Human: what is the name of the central bank of that country?\n",
      "    AI Assistant:\u001b[0m\n",
      "\n",
      "\u001b[1m> Finished chain.\u001b[0m\n"
     ]
    },
    {
     "data": {
      "text/plain": [
       "\"The central bank of Indonesia is called Bank Indonesia. It is responsible for managing the country's monetary policy, maintaining financial stability, and overseeing the financial system.\""
      ]
     },
     "execution_count": 10,
     "metadata": {},
     "output_type": "execute_result"
    }
   ],
   "source": [
    "conversation.run(\"what is the name of the central bank of that country?\")"
   ]
  },
  {
   "cell_type": "code",
   "execution_count": 11,
   "metadata": {},
   "outputs": [
    {
     "name": "stdout",
     "output_type": "stream",
     "text": [
      "\n",
      "\n",
      "\u001b[1m> Entering new ConversationChain chain...\u001b[0m\n",
      "Prompt after formatting:\n",
      "\u001b[32;1m\u001b[1;3mThe following is a friendly conversation between a human and a financial stock advisor AI with specific knowledge of the Indonesian stock market (IDX). \n",
      "The AI is talkative and provides lots of specific details from its context. If the AI does not know the answer to a question, it truthfully says it does not know.\n",
      "    Current conversation:\n",
      "    Human: which country does the great nusantara likely refers to?\n",
      "AI: The term \"Great Nusantara\" is a concept that has been used in the context of Indonesia. It refers to the idea of a united and powerful Indonesia, encompassing not just the geographical area of the current country, but also the surrounding islands and territories that were historically or culturally connected to it. The term is often associated with the vision of Indonesia as a major regional power and a leader in Southeast Asia.\n",
      "Human: what is the name of the central bank of that country?\n",
      "AI: The central bank of Indonesia is called Bank Indonesia. It is responsible for managing the country's monetary policy, maintaining financial stability, and overseeing the financial system.\n",
      "    Human: with whom does this country compete with, economically?\n",
      "    AI Assistant:\u001b[0m\n",
      "\n",
      "\u001b[1m> Finished chain.\u001b[0m\n"
     ]
    },
    {
     "data": {
      "text/plain": [
       "'Indonesia competes economically with several countries in the Southeast Asian region. Some of its main competitors include Malaysia, Thailand, and Vietnam. These countries compete in various sectors such as manufacturing, agriculture, tourism, and services. They also compete for foreign investment and trade opportunities in the region.'"
      ]
     },
     "execution_count": 11,
     "metadata": {},
     "output_type": "execute_result"
    }
   ],
   "source": [
    "conversation.run(\"with whom does this country compete with, economically?\")"
   ]
  },
  {
   "cell_type": "code",
   "execution_count": 12,
   "metadata": {},
   "outputs": [],
   "source": [
    "from langchain_groq import ChatGroq\n",
    "from langchain_core.prompts import ChatPromptTemplate, MessagesPlaceholder"
   ]
  },
  {
   "cell_type": "code",
   "execution_count": 13,
   "metadata": {},
   "outputs": [],
   "source": [
    "prompt = ChatPromptTemplate.from_messages(\n",
    "    [\n",
    "        (\n",
    "            \"system\",\n",
    "            \"You're a financial stock advisor with adept knowledge of the Indonesian stock exchange (IDX) and adept at analysing, summarizing, inferring trends from financial information\",\n",
    "        ),\n",
    "        MessagesPlaceholder(variable_name=\"history\"),\n",
    "        (\"human\", \"{question}\"),\n",
    "    ]\n",
    ")"
   ]
  },
  {
   "cell_type": "code",
   "execution_count": 14,
   "metadata": {},
   "outputs": [],
   "source": [
    "chain = prompt | llm"
   ]
  },
  {
   "cell_type": "code",
   "execution_count": 15,
   "metadata": {},
   "outputs": [],
   "source": [
    "from  langchain_core.chat_history import InMemoryChatMessageHistory  # Alternative import\n",
    "from langchain_core.runnables import RunnableWithMessageHistory\n",
    "from langchain_community.chat_message_histories import SQLChatMessageHistory"
   ]
  },
  {
   "cell_type": "code",
   "execution_count": 16,
   "metadata": {},
   "outputs": [],
   "source": [
    "\n",
    "store = {}\n",
    "\n",
    "def get_session_history_by_id(session_id: str):\n",
    "    if session_id not in store:\n",
    "        store[session_id] = InMemoryChatMessageHistory() \n",
    "    return store[session_id]\n",
    "\n",
    "with_memory = RunnableWithMessageHistory(\n",
    "    chain,\n",
    "    get_session_history_by_id,\n",
    "    # the two variables in the prompt are named 'question' and 'history'\n",
    "    input_messages_key=\"question\",\n",
    "    history_messages_key=\"history\",\n",
    ")"
   ]
  },
  {
   "cell_type": "code",
   "execution_count": 17,
   "metadata": {},
   "outputs": [],
   "source": [
    "out = with_memory.invoke(\n",
    "    {\"question\": \"What are some investable companies on the Indonesian stock market?\"},\n",
    "    config={\"configurable\": {\"session_id\": \"supertype\"}},\n",
    ")"
   ]
  },
  {
   "cell_type": "code",
   "execution_count": 18,
   "metadata": {},
   "outputs": [
    {
     "name": "stdout",
     "output_type": "stream",
     "text": [
      "Human: What are some investable companies on the Indonesian stock market?\n",
      "AI: The Indonesian stock market, also known as the Indonesia Stock Exchange (IDX), offers a diverse range of investable companies across various sectors. Here are some notable ones:\n",
      "\n",
      "1. Financials:\n",
      "   - Bank Rakyat Indonesia (BRI) - One of the largest banks in Indonesia.\n",
      "   - Bank Mandiri (BMRI) - Another major bank with significant market share.\n",
      "   - BCA Finance (FIFA) - A leading consumer finance company.\n",
      "\n",
      "2. Energy and Resources:\n",
      "   - Pertamina (PT) - The state-owned oil and gas company.\n",
      "   - Astra Agro Lestari (AALI) - A prominent player in the palm oil industry.\n",
      "\n",
      "3. Consumer Goods:\n",
      "   - Unilever Indonesia (UNVR) - A multinational consumer goods company with a strong presence in Indonesia.\n",
      "   - Indofood Sukses Makmur (INDF) - Known for its instant noodles and other food products.\n",
      "\n",
      "4. Infrastructure and Property:\n",
      "   - Wijaya Karya (WIKA) - A state-owned construction company involved in various infrastructure projects.\n",
      "   - Lippo Karawaci (LPKR) - A real estate developer and operator of shopping malls.\n",
      "\n",
      "5. Technology and Telecommunications:\n",
      "   - Telekomunikasi Indonesia (TLKM) - The largest telecommunications company in Indonesia.\n",
      "   - XL Axiata (EXCL) - A prominent telecommunications service provider.\n",
      "\n",
      "6. Healthcare:\n",
      "   - Kalbe Farma (KLBF) - A leading pharmaceutical company in Indonesia.\n",
      "   - Mitra Keluarga Karyasehat (MIKA) - A chain of hospitals and healthcare services.\n",
      "\n",
      "7. Manufacturing:\n",
      "   - Astra International (ASII) - A conglomerate with interests in automotive, financial services, heavy equipment, and more.\n",
      "   - Gudang Garam (GGRM) - A well-known cigarette manufacturer.\n",
      "\n",
      "These are just a few examples of the many investable companies listed on the IDX. It's essential to conduct thorough research and consider various factors before making any investment decisions.\n"
     ]
    }
   ],
   "source": [
    "print(store['supertype'])"
   ]
  },
  {
   "cell_type": "code",
   "execution_count": 19,
   "metadata": {},
   "outputs": [],
   "source": [
    "out2 = with_memory.invoke(\n",
    "    {\"question\": \"Tell me more about the first three companies on the list\"},\n",
    "    config={\"configurable\": {\"session_id\": \"supertype\"}},\n",
    ")"
   ]
  },
  {
   "cell_type": "code",
   "execution_count": 20,
   "metadata": {},
   "outputs": [
    {
     "name": "stdout",
     "output_type": "stream",
     "text": [
      "1. Bank Rakyat Indonesia (BRI): BRI is one of the largest banks in Indonesia, providing a wide range of financial services including personal banking, corporate banking, and international banking. It has a strong network of branches and ATMs across the country. BRI is known for its commitment to supporting small and medium enterprises (SMEs) and rural development. It is considered a stable investment option due to its strong financial position and government support.\n",
      "\n",
      "2. Bank Mandiri (BMRI): Bank Mandiri is another major bank in Indonesia, offering a variety of financial services to individuals, businesses, and institutions. It is known for its innovative digital banking solutions and extensive network of branches and ATMs. BMRI has a strong track record of profitability and is considered a reliable investment option due to its solid financial fundamentals and significant market share.\n",
      "\n",
      "3. BCA Finance (FIFA): BCA Finance is a leading consumer finance company in Indonesia, providing financing solutions for vehicles, homes, and other consumer goods. It is known for its wide distribution network and innovative financing products. FIFA has a strong track record of growth and profitability, making it an attractive investment option for those looking for exposure to the consumer finance sector in Indonesia.\n"
     ]
    }
   ],
   "source": [
    "print(out2.content)"
   ]
  },
  {
   "cell_type": "code",
   "execution_count": 21,
   "metadata": {},
   "outputs": [],
   "source": [
    "prompt = ChatPromptTemplate.from_messages(\n",
    "    [\n",
    "        (\n",
    "            \"system\",\n",
    "            \"\"\"You're a bilingual financial stock advisor with adept knowledge of the Indonesian stock exchange (IDX). Answer the users queries with respect to his stock holdings. \n",
    "            Answer in the {language} language, but be casual and not too overly formal.\n",
    "            \"\"\",\n",
    "        ),\n",
    "        MessagesPlaceholder(variable_name=\"history\"),\n",
    "        (\"human\", \"{input}\"),\n",
    "    ]\n",
    ")\n",
    "\n",
    "chain = prompt | llm"
   ]
  },
  {
   "cell_type": "code",
   "execution_count": 22,
   "metadata": {},
   "outputs": [],
   "source": [
    "store = {}\n",
    "def get_session_history_by_uid_and_convoid(user_id: str, conversation_id: str,language:str):\n",
    "    concatenated = f\"{user_id}_{conversation_id}_{language}\"\n",
    "\n",
    "    # if concatenated not in store:\n",
    "    #     store[concatenated] = InMemoryChatMessageHistory()\n",
    "    return SQLChatMessageHistory(concatenated, \"sqlite:///chat_history.db\")"
   ]
  },
  {
   "cell_type": "code",
   "execution_count": 23,
   "metadata": {},
   "outputs": [],
   "source": [
    "from langchain_core.runnables import ConfigurableFieldSpec\n",
    "\n",
    "with_memory = RunnableWithMessageHistory(\n",
    "    chain,\n",
    "    get_session_history_by_uid_and_convoid,\n",
    "    input_messages_key=\"input\",\n",
    "    history_messages_key=\"history\",\n",
    "    history_factory_config=[\n",
    "        ConfigurableFieldSpec(\n",
    "            id=\"user_id\",\n",
    "            annotation=str,\n",
    "            name=\"User ID\",\n",
    "            description=\"Unique identifier for the user.\",\n",
    "            default=\"\",\n",
    "            is_shared=True,\n",
    "        ),\n",
    "        ConfigurableFieldSpec(\n",
    "            id=\"conversation_id\",\n",
    "            annotation=str,\n",
    "            name=\"Conversation ID\",\n",
    "            description=\"Unique identifier for the conversation.\",\n",
    "            default=\"\",\n",
    "            is_shared=True,\n",
    "        ),\n",
    "        ConfigurableFieldSpec(\n",
    "            id=\"language\",\n",
    "            annotation=str,\n",
    "            name=\"language\",\n",
    "            description=\"Unique identifier for the conversation. language\",\n",
    "            default=\"Indonesia\",\n",
    "            is_shared=True,\n",
    "        ),\n",
    "    ],\n",
    ")"
   ]
  },
  {
   "cell_type": "code",
   "execution_count": 24,
   "metadata": {},
   "outputs": [
    {
     "name": "stderr",
     "output_type": "stream",
     "text": [
      "c:\\anaconda3\\envs\\training\\Lib\\site-packages\\langchain_core\\runnables\\history.py:624: LangChainDeprecationWarning: `connection_string` was deprecated in LangChain 0.2.2 and will be removed in 1.0. Use connection instead.\n",
      "  message_history = self.get_session_history(\n"
     ]
    }
   ],
   "source": [
    "out_4 = with_memory.invoke(\n",
    "    {\"input\": \"Tell me more about the first three companies on the list\",\n",
    "        \"language\": \"English\"},\n",
    "    config={\n",
    "        \"configurable\": {\n",
    "            \"user_id\": \"001\",\n",
    "            \"conversation_id\": \"1\",\n",
    "            \"language\": \"English\",\n",
    "        }\n",
    "    },\n",
    ")"
   ]
  },
  {
   "cell_type": "code",
   "execution_count": 25,
   "metadata": {},
   "outputs": [
    {
     "data": {
      "text/plain": [
       "\"Alright, let's dive a bit deeper into the first three companies. Astra International, as I mentioned earlier, is a conglomerate with a wide range of interests. They're a significant player in the automotive industry, with partnerships with companies like Toyota and Honda. They also have a strong presence in the financial sector through their subsidiaries, and are involved in heavy equipment, agribusiness, and more. They're a bellwether for the Indonesian economy, so their performance is closely watched.\\n\\nBank Rakyat Indonesia, or BRI, is a state-owned bank that's been around since 1895. It's known for its extensive network, with thousands of branches across the country. BRI focuses on serving micro, small, and medium enterprises, which are crucial for Indonesia's economic growth. They offer a variety of financial services, including loans, savings accounts, and credit cards.\\n\\nTelekomunikasi Indonesia, or Telkom, is the largest telecommunications company in Indonesia. They offer a wide range of services including fixed line, mobile, data, and internet. They're a key player in the development of Indonesia's digital infrastructure, and they're expanding their services to include cloud computing, cybersecurity, and more.\""
      ]
     },
     "execution_count": 25,
     "metadata": {},
     "output_type": "execute_result"
    }
   ],
   "source": [
    "out_4.content"
   ]
  },
  {
   "cell_type": "code",
   "execution_count": 26,
   "metadata": {},
   "outputs": [],
   "source": [
    "from langgraph.checkpoint.memory import MemorySaver\n",
    "from langchain.agents import create_react_agent"
   ]
  },
  {
   "cell_type": "code",
   "execution_count": 27,
   "metadata": {},
   "outputs": [],
   "source": [
    "memory = MemorySaver()"
   ]
  },
  {
   "cell_type": "code",
   "execution_count": 28,
   "metadata": {},
   "outputs": [
    {
     "ename": "TypeError",
     "evalue": "create_react_agent() got an unexpected keyword argument 'checkpointer'",
     "output_type": "error",
     "traceback": [
      "\u001b[1;31m---------------------------------------------------------------------------\u001b[0m",
      "\u001b[1;31mTypeError\u001b[0m                                 Traceback (most recent call last)",
      "Cell \u001b[1;32mIn[28], line 1\u001b[0m\n\u001b[1;32m----> 1\u001b[0m app \u001b[38;5;241m=\u001b[39m create_react_agent(llm, checkpointer\u001b[38;5;241m=\u001b[39mmemory)\n",
      "\u001b[1;31mTypeError\u001b[0m: create_react_agent() got an unexpected keyword argument 'checkpointer'"
     ]
    }
   ],
   "source": [
    "app = create_react_agent(llm, checkpointer=memory)"
   ]
  },
  {
   "cell_type": "code",
   "execution_count": null,
   "metadata": {},
   "outputs": [],
   "source": []
  }
 ],
 "metadata": {
  "kernelspec": {
   "display_name": "training",
   "language": "python",
   "name": "training"
  },
  "language_info": {
   "codemirror_mode": {
    "name": "ipython",
    "version": 3
   },
   "file_extension": ".py",
   "mimetype": "text/x-python",
   "name": "python",
   "nbconvert_exporter": "python",
   "pygments_lexer": "ipython3",
   "version": "3.12.7"
  }
 },
 "nbformat": 4,
 "nbformat_minor": 2
}
