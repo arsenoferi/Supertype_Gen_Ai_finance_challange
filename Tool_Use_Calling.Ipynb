{
 "cells": [
  {
   "cell_type": "markdown",
   "metadata": {},
   "source": [
    "# Import Library "
   ]
  },
  {
   "cell_type": "code",
   "execution_count": null,
   "metadata": {},
   "outputs": [],
   "source": [
    "import os\n",
    "import json\n",
    "import requests\n",
    "import datetime\n",
    "from dotenv import load_dotenv\n",
    "from langchain_core.tools import tool\n",
    "from langchain_core.prompts import ChatPromptTemplate, MessagesPlaceholder\n",
    "from langchain_groq import ChatGroq\n",
    "from langchain.agents import create_tool_calling_agent, AgentExecutor\n",
    "from typing import Optional\n",
    "from pydantic import BaseModel, Field"
   ]
  },
  {
   "cell_type": "code",
   "execution_count": 32,
   "metadata": {},
   "outputs": [
    {
     "data": {
      "text/plain": [
       "True"
      ]
     },
     "execution_count": 32,
     "metadata": {},
     "output_type": "execute_result"
    }
   ],
   "source": [
    "load_dotenv()"
   ]
  },
  {
   "cell_type": "markdown",
   "metadata": {},
   "source": [
    "# Coding"
   ]
  },
  {
   "cell_type": "markdown",
   "metadata": {},
   "source": [
    "## General Function to Get Data From Sector"
   ]
  },
  {
   "cell_type": "code",
   "execution_count": 33,
   "metadata": {},
   "outputs": [],
   "source": [
    "GROQ_API_KEY = os.getenv(\"GROK_API_KEY\")\n",
    "SECTORS_API_KEY = os.getenv(\"SECTOR_API_KEY\")\n",
    "\n",
    "def retrieve_from_endpoint(url: str) -> dict:\n",
    "    headers = {\"Authorization\": SECTORS_API_KEY}\n",
    "\n",
    "    try:\n",
    "        response = requests.get(url, headers=headers)\n",
    "        response.raise_for_status()\n",
    "        data = response.json()\n",
    "    except requests.exceptions.HTTPError as err:\n",
    "        raise SystemExit(err)\n",
    "    return json.dumps(data)"
   ]
  },
  {
   "cell_type": "markdown",
   "metadata": {},
   "source": [
    "## Tool Function"
   ]
  },
  {
   "cell_type": "code",
   "execution_count": 34,
   "metadata": {},
   "outputs": [],
   "source": [
    "@tool\n",
    "\n",
    "def get_company_overview(stock:str)-> str:\n",
    "    \"\"\"\n",
    "    Get company overview from sector API\n",
    "    \"\"\"\n",
    "\n",
    "    url = f\"https://api.sectors.app/v1/company/report/{stock}/?sections=overview\"\n",
    "    \n",
    "    return retrieve_from_endpoint(url)"
   ]
  },
  {
   "cell_type": "code",
   "execution_count": 35,
   "metadata": {},
   "outputs": [],
   "source": [
    "@tool\n",
    "def get_today_date()->str:\n",
    "    \"\"\"\n",
    "    Get today's date\n",
    "    \"\"\"\n",
    "    return datetime.datetime.now().date().strftime(\"%Y-%m-%d\")"
   ]
  },
  {
   "cell_type": "code",
   "execution_count": 36,
   "metadata": {},
   "outputs": [],
   "source": [
    "@tool\n",
    "def get_top_companies_by_tx_volume(start_date: str, end_date: str, top_n: int = 5) -> str:\n",
    "    \"\"\"\n",
    "    Get top companies by transaction volume\n",
    "    \"\"\"\n",
    "    url = f\"https://api.sectors.app/v1/most-traded/?start={start_date}&end={end_date}&n_stock={top_n}\"\n",
    "\n",
    "    return retrieve_from_endpoint(url)"
   ]
  },
  {
   "cell_type": "code",
   "execution_count": 37,
   "metadata": {},
   "outputs": [],
   "source": [
    "@tool\n",
    "def get_daily_tx(stock: str, start_date: str, end_date: str) -> str:\n",
    "    \"\"\"\n",
    "    Get daily transaction for a stock\n",
    "    \"\"\"\n",
    "    url = f\"https://api.sectors.app/v1/daily/{stock}/?start={start_date}&end={end_date}\"\n",
    "\n",
    "    return retrieve_from_endpoint(url)"
   ]
  },
  {
   "cell_type": "code",
   "execution_count": 38,
   "metadata": {},
   "outputs": [],
   "source": [
    "tools = [\n",
    "    get_company_overview,\n",
    "    get_top_companies_by_tx_volume,\n",
    "    get_daily_tx,\n",
    "    get_today_date\n",
    "]"
   ]
  },
  {
   "cell_type": "code",
   "execution_count": 39,
   "metadata": {},
   "outputs": [],
   "source": [
    "prompt = ChatPromptTemplate.from_messages(\n",
    "    [\n",
    "        (\n",
    "            \"system\",\n",
    "            \"\"\"Answer the following queries, being as factual and analytical \n",
    "            as you can. If you need the start and end dates but they are not \n",
    "            explicitly provided, infer from the query. Whenever you return a \n",
    "            list of names, return also the corresponding values for each name. \n",
    "            If the volume was about a single day, the start and end \n",
    "            parameter should be the same. today data means today's date based on computer time\"\"\"\n",
    "        ),\n",
    "        (\"human\", \"{input}\"),\n",
    "        # msg containing previous agent tool invocations \n",
    "        # and corresponding tool outputs\n",
    "        MessagesPlaceholder(\"agent_scratchpad\"),\n",
    "    ]\n",
    ")"
   ]
  },
  {
   "cell_type": "code",
   "execution_count": 40,
   "metadata": {},
   "outputs": [],
   "source": [
    "llm = ChatGroq(\n",
    "    temperature=0,\n",
    "    model_name=\"llama3-groq-70b-8192-tool-use-preview\",\n",
    "    groq_api_key=GROQ_API_KEY,\n",
    ")"
   ]
  },
  {
   "cell_type": "code",
   "execution_count": 41,
   "metadata": {},
   "outputs": [],
   "source": [
    "agent = create_tool_calling_agent(llm, tools, prompt)\n"
   ]
  },
  {
   "cell_type": "code",
   "execution_count": 42,
   "metadata": {},
   "outputs": [],
   "source": [
    "agent_executor = AgentExecutor(agent=agent, tools=tools, verbose=True)"
   ]
  },
  {
   "cell_type": "code",
   "execution_count": 43,
   "metadata": {},
   "outputs": [],
   "source": [
    "query_1 = \"What are the top 3 companies by transaction volume over the last 7 days from today?\"\n",
    "query_2 = \"Based on the closing prices of BBCA between 1st and 30th of June 2024, are we seeing an uptrend or downtrend? Try to explain why.\"\n",
    "query_3 = \"What is the company with the largest market cap between BBCA and BREN? For said company, retrieve the email, phone number, listing date and website for further research.\"\n",
    "query_4 = \"What is the performance of GOTO (symbol: GOTO) since its IPO listing?\"\n",
    "query_5 = \"If i had invested into GOTO vs BREN on their respective IPO listing date, which one would have given me a better return over a 90 day horizon?\"\n",
    "query_6 = \"What today date?\"\n",
    "\n",
    "queries = [query_6, query_1, query_2, query_3, query_4, query_5]\n",
    "\n",
    "# batch_input = [{\"input\": query} for query in queries]\n",
    "# results = agent_executor.batch(batch_input)\n",
    "# results\n",
    "\n",
    "# for i in results:\n",
    "#     print(i[\"output\"])\n"
   ]
  },
  {
   "cell_type": "markdown",
   "metadata": {},
   "source": [
    "# Structure Output"
   ]
  },
  {
   "cell_type": "code",
   "execution_count": 44,
   "metadata": {},
   "outputs": [],
   "source": [
    "class Stock(BaseModel):\n",
    "    \"\"\"Information about a company's stock\"\"\"\n",
    "\n",
    "    symbol: str = Field(description=\"The stock symbol\")\n",
    "    name: str = Field(description=\"The name of the company for which the stock symbol represents\")\n",
    "    sector: Optional[str] = Field(default=None, description=\"The sector of the company\")\n",
    "    industry: Optional[str] = Field(default=None, description=\"The industry of the company\")\n",
    "    market_cap: Optional[int] = Field(default=None, description=\"The market capitalization of the company\")\n",
    "\n"
   ]
  },
  {
   "cell_type": "code",
   "execution_count": 45,
   "metadata": {},
   "outputs": [
    {
     "ename": "AttributeError",
     "evalue": "'RunnableSequence' object has no attribute 'with_structured_output'",
     "output_type": "error",
     "traceback": [
      "\u001b[1;31m---------------------------------------------------------------------------\u001b[0m",
      "\u001b[1;31mAttributeError\u001b[0m                            Traceback (most recent call last)",
      "Cell \u001b[1;32mIn[45], line 1\u001b[0m\n\u001b[1;32m----> 1\u001b[0m agent_structured_output \u001b[38;5;241m=\u001b[39m agent\u001b[38;5;241m.\u001b[39mwith_structured_output(Stock)\n\u001b[0;32m      3\u001b[0m \u001b[38;5;66;03m# Define the stock symbol\u001b[39;00m\n\u001b[0;32m      4\u001b[0m symbol \u001b[38;5;241m=\u001b[39m \u001b[38;5;124m\"\u001b[39m\u001b[38;5;124mBBCA\u001b[39m\u001b[38;5;124m\"\u001b[39m\n",
      "File \u001b[1;32mc:\\anaconda3\\envs\\training\\Lib\\site-packages\\pydantic\\main.py:856\u001b[0m, in \u001b[0;36mBaseModel.__getattr__\u001b[1;34m(self, item)\u001b[0m\n\u001b[0;32m    853\u001b[0m     \u001b[38;5;28;01mreturn\u001b[39;00m \u001b[38;5;28msuper\u001b[39m()\u001b[38;5;241m.\u001b[39m\u001b[38;5;21m__getattribute__\u001b[39m(item)  \u001b[38;5;66;03m# Raises AttributeError if appropriate\u001b[39;00m\n\u001b[0;32m    854\u001b[0m \u001b[38;5;28;01melse\u001b[39;00m:\n\u001b[0;32m    855\u001b[0m     \u001b[38;5;66;03m# this is the current error\u001b[39;00m\n\u001b[1;32m--> 856\u001b[0m     \u001b[38;5;28;01mraise\u001b[39;00m \u001b[38;5;167;01mAttributeError\u001b[39;00m(\u001b[38;5;124mf\u001b[39m\u001b[38;5;124m'\u001b[39m\u001b[38;5;132;01m{\u001b[39;00m\u001b[38;5;28mtype\u001b[39m(\u001b[38;5;28mself\u001b[39m)\u001b[38;5;241m.\u001b[39m\u001b[38;5;18m__name__\u001b[39m\u001b[38;5;132;01m!r}\u001b[39;00m\u001b[38;5;124m object has no attribute \u001b[39m\u001b[38;5;132;01m{\u001b[39;00mitem\u001b[38;5;132;01m!r}\u001b[39;00m\u001b[38;5;124m'\u001b[39m)\n",
      "\u001b[1;31mAttributeError\u001b[0m: 'RunnableSequence' object has no attribute 'with_structured_output'"
     ]
    }
   ],
   "source": [
    "agent_structured_output = agent.with_structured_output(Stock)\n",
    "\n",
    "# Define the stock symbol\n",
    "symbol = \"BBCA\"\n",
    "\n",
    "# Inject the symbol variable into the text using an f-string\n",
    "text = f\"give me information for the stock: {symbol} in Indonesia stock market\"\n",
    "\n",
    "print(text)"
   ]
  },
  {
   "cell_type": "code",
   "execution_count": null,
   "metadata": {},
   "outputs": [],
   "source": [
    "result = agent_executor.invoke({\"input\": text})\n",
    "\n",
    "# Attempt to parse the result as a Stock model\n",
    "try:\n",
    "    stock_info = Stock(**result[\"output\"])  # Unpack the output dictionary into the Stock model\n",
    "    print(\"Structured Stock Output:\")\n",
    "    print(stock_info.json(indent=4))\n",
    "except Exception as e:\n",
    "    print(\"Failed to parse output as Stock model:\", e)"
   ]
  }
 ],
 "metadata": {
  "kernelspec": {
   "display_name": "training",
   "language": "python",
   "name": "training"
  },
  "language_info": {
   "codemirror_mode": {
    "name": "ipython",
    "version": 3
   },
   "file_extension": ".py",
   "mimetype": "text/x-python",
   "name": "python",
   "nbconvert_exporter": "python",
   "pygments_lexer": "ipython3",
   "version": "3.12.7"
  }
 },
 "nbformat": 4,
 "nbformat_minor": 2
}
